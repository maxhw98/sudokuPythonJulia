{
 "cells": [
  {
   "cell_type": "markdown",
   "metadata": {},
   "source": [
    "# Sudoku - Julia version"
   ]
  },
  {
   "cell_type": "code",
   "execution_count": 1,
   "metadata": {},
   "outputs": [],
   "source": [
    "import Base"
   ]
  },
  {
   "cell_type": "markdown",
   "metadata": {},
   "source": [
    "## Puzzles"
   ]
  },
  {
   "cell_type": "code",
   "execution_count": 12,
   "metadata": {
    "scrolled": true
   },
   "outputs": [
    {
     "data": {
      "text/plain": [
       "9-element Array{Array{Int64,1},1}:\n",
       " [0, 0, 5, 3, 0, 0, 0, 0, 0]\n",
       " [8, 0, 0, 0, 0, 0, 0, 2, 0]\n",
       " [0, 7, 0, 0, 1, 0, 5, 0, 0]\n",
       " [4, 0, 0, 0, 0, 5, 3, 0, 0]\n",
       " [0, 1, 0, 0, 7, 0, 0, 0, 6]\n",
       " [0, 0, 3, 2, 0, 0, 0, 8, 0]\n",
       " [0, 6, 0, 5, 0, 0, 0, 0, 9]\n",
       " [0, 0, 4, 0, 0, 0, 0, 3, 0]\n",
       " [0, 0, 0, 0, 0, 9, 7, 0, 0]"
      ]
     },
     "execution_count": 12,
     "metadata": {},
     "output_type": "execute_result"
    }
   ],
   "source": [
    "# sudoku problems from python\n",
    "\n",
    "computerphile_base = [\n",
    "        [5, 3, 0, 0, 7, 0, 0, 0, 0],\n",
    "        [6, 0, 0, 1, 9, 5, 0, 0, 0],\n",
    "        [0, 9, 8, 0, 0, 0, 0, 6, 0],\n",
    "        [8, 0, 0, 0, 6, 0, 0, 0, 3],\n",
    "        [4, 0, 0, 8, 0, 3, 0, 0, 1],\n",
    "        [7, 0, 0, 0, 2, 0, 0, 0, 6],\n",
    "        [0, 6, 0, 0, 0, 0, 2, 8, 0],\n",
    "        [0, 0, 0, 4, 1, 9, 0, 0, 5],\n",
    "        [0, 0, 0, 0, 8, 0, 0, 0, 0]] \n",
    "# PYTHON: 2 solutions, --- 0.13976192474365234 seconds ---\n",
    "# JULIA: 2 solutions,  --- 0.035505 seconds ---\n",
    "\n",
    "medium_1 = [\n",
    "        [0, 0, 0, 0, 7, 0, 4, 0, 0],\n",
    "        [6, 7, 3, 0, 0, 0, 0, 0, 0],\n",
    "        [0, 0, 0, 3, 9, 0, 5, 0, 0],\n",
    "        [3, 0, 2, 0, 0, 0, 0, 0, 8],\n",
    "        [0, 0, 7, 0, 1, 0, 0, 0, 9],\n",
    "        [0, 0, 0, 5, 0, 2, 0, 0, 0],\n",
    "        [0, 0, 0, 2, 5, 8, 0, 3, 0],\n",
    "        [0, 0, 0, 0, 0, 7, 0, 4, 0],\n",
    "        [5, 6, 0, 0, 0, 0, 0, 0, 0]] \n",
    "# PYTHON: 11 solutions, --- 0.25779104232788086 seconds ---\n",
    "# JULIA: 11 solutions,  --- 0.056143 seconds ---\n",
    "\n",
    "hard_1 = [\n",
    "        [3, 7, 0, 0, 0, 9, 0, 0, 6],\n",
    "        [8, 0, 0, 1, 0, 3, 0, 7, 0],\n",
    "        [0, 0, 0, 0, 0, 0, 0, 0, 8],\n",
    "        [0, 2, 0, 0, 8, 0, 0, 0, 5],\n",
    "        [1, 8, 7, 0, 0, 0, 6, 4, 2],\n",
    "        [5, 0, 0, 0, 2, 0, 0, 1, 0],\n",
    "        [7, 0, 0, 0, 0, 0, 0, 0, 0],\n",
    "        [0, 5, 0, 6, 0, 2, 0, 0, 7],\n",
    "        [2, 0, 0, 3, 0, 0, 0, 6, 1]] \n",
    "# PYTHON: 1 solution, --- 0.2648599147796631 seconds ---\n",
    "# JULIA: 1 solution,  --- 0.058430 seconds ---\n",
    "\n",
    "hard_2 = [\n",
    "        [0, 0, 3, 0, 0, 0, 0, 0, 0],\n",
    "        [8, 0, 9, 4, 6, 0, 7, 0, 2],\n",
    "        [2, 0, 0, 0, 1, 8, 6, 0, 0],\n",
    "        [0, 0, 0, 0, 0, 6, 0, 7, 0],\n",
    "        [0, 0, 8, 0, 0, 0, 4, 0, 0],\n",
    "        [0, 7, 0, 8, 0, 0, 0, 0, 0],\n",
    "        [0, 0, 2, 9, 4, 0, 0, 0, 5],\n",
    "        [4, 0, 6, 0, 3, 2, 8, 0, 7],\n",
    "        [0, 0, 0, 0, 0, 0, 2, 0, 0]] \n",
    "# PYTHON: 1 solution, --- 0.9040899276733398 seconds ---\n",
    "# JULIA: 1 solution,  --- 0.116727 seconds ---\n",
    "\n",
    "ultra_hard_1 = [\n",
    "        [0, 0, 5, 3, 0, 0, 0, 0, 0],\n",
    "        [8, 0, 0, 0, 0, 0, 0, 2, 0],\n",
    "        [0, 7, 0, 0, 1, 0, 5, 0, 0],\n",
    "        [4, 0, 0, 0, 0, 5, 3, 0, 0],\n",
    "        [0, 1, 0, 0, 7, 0, 0, 0, 6],\n",
    "        [0, 0, 3, 2, 0, 0, 0, 8, 0],\n",
    "        [0, 6, 0, 5, 0, 0, 0, 0, 9],\n",
    "        [0, 0, 4, 0, 0, 0, 0, 3, 0],\n",
    "        [0, 0, 0, 0, 0, 9, 7, 0, 0]] \n",
    "# this one is apparently the hardest for humans to do, written by finnish mathematician Arto Inkala\n",
    "# PYTHON: 1 solution, --- 1.2927770614624023 seconds ---\n",
    "# JULIA: 1 solution,  --- 0.178240 seconds seconds ---"
   ]
  },
  {
   "cell_type": "markdown",
   "metadata": {},
   "source": [
    "## Algorithm"
   ]
  },
  {
   "cell_type": "code",
   "execution_count": 3,
   "metadata": {},
   "outputs": [
    {
     "data": {
      "text/plain": [
       "possible (generic function with 1 method)"
      ]
     },
     "execution_count": 3,
     "metadata": {},
     "output_type": "execute_result"
    }
   ],
   "source": [
    "function possible(grid, x, y, n)\n",
    "    range9 = Array{Int64,1}[1:9]\n",
    "    range3 = Array{Int64,1}[1:3]\n",
    "    \n",
    "    for i in range9[1]\n",
    "        if grid[i][y] == n\n",
    "            return false\n",
    "        end\n",
    "    end\n",
    "    \n",
    "    for i in range9[1]\n",
    "        if grid[x][i] == n\n",
    "            return false\n",
    "        end\n",
    "    end\n",
    "        \n",
    "    x0 = (ceil(Int64, x / 3 ) - 1) * 3\n",
    "    y0 = (ceil(Int64, y / 3 ) - 1) * 3\n",
    "    # if this seems like an unholy abomination, thats because it is. I with Julia arrays started at 0\n",
    "#     println(typeof(1))\n",
    "    for i in range3[1]\n",
    "        for j in range3[1]\n",
    "            if (grid[x0 + i][y0 + j] == n)\n",
    "                return false\n",
    "            end\n",
    "        end\n",
    "    end\n",
    "    return true  \n",
    "end"
   ]
  },
  {
   "cell_type": "code",
   "execution_count": null,
   "metadata": {},
   "outputs": [],
   "source": []
  },
  {
   "cell_type": "code",
   "execution_count": 4,
   "metadata": {
    "scrolled": true
   },
   "outputs": [
    {
     "data": {
      "text/plain": [
       "solve (generic function with 1 method)"
      ]
     },
     "execution_count": 4,
     "metadata": {},
     "output_type": "execute_result"
    }
   ],
   "source": [
    "function solve(grid)\n",
    "    range9 = Array{Int64,1}[1:9]\n",
    "    for i in range9[1]\n",
    "        for j in range9[1]\n",
    "            if grid[i][j] == 0\n",
    "                for x in range9[1]\n",
    "                    if possible(grid, i, j, x)\n",
    "                        grid[i][j] = x\n",
    "                        solve(grid)\n",
    "                        grid[i][j] = 0\n",
    "                    end\n",
    "                end\n",
    "                return\n",
    "            end\n",
    "        end\n",
    "    end\n",
    "    Base.print_matrix(stdout, grid)\n",
    "    println(\"\\n\")\n",
    "end"
   ]
  },
  {
   "cell_type": "code",
   "execution_count": 11,
   "metadata": {
    "scrolled": true
   },
   "outputs": [
    {
     "name": "stdout",
     "output_type": "stream",
     "text": [
      " [1, 4, 5, 3, 2, 7, 6, 9, 8]\n",
      " [8, 3, 9, 6, 5, 4, 1, 2, 7]\n",
      " [6, 7, 2, 9, 1, 8, 5, 4, 3]\n",
      " [4, 9, 6, 1, 8, 5, 3, 7, 2]\n",
      " [2, 1, 8, 4, 7, 3, 9, 5, 6]\n",
      " [7, 5, 3, 2, 9, 6, 4, 8, 1]\n",
      " [3, 6, 7, 5, 4, 2, 8, 1, 9]\n",
      " [9, 8, 4, 7, 6, 1, 2, 3, 5]\n",
      " [5, 2, 1, 8, 3, 9, 7, 6, 4]\n",
      "\n",
      "  0.185757 seconds (2.92 M allocations: 324.340 MiB, 28.34% gc time)\n"
     ]
    }
   ],
   "source": [
    "@time solve(ultra_hard_1)"
   ]
  },
  {
   "cell_type": "code",
   "execution_count": null,
   "metadata": {},
   "outputs": [],
   "source": []
  }
 ],
 "metadata": {
  "kernelspec": {
   "display_name": "Julia 1.5.2",
   "language": "julia",
   "name": "julia-1.5"
  },
  "language_info": {
   "file_extension": ".jl",
   "mimetype": "application/julia",
   "name": "julia",
   "version": "1.5.2"
  }
 },
 "nbformat": 4,
 "nbformat_minor": 4
}
